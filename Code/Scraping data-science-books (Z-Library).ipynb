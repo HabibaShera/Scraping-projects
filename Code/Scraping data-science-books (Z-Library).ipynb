{
 "cells": [
  {
   "cell_type": "code",
   "execution_count": 1,
   "metadata": {},
   "outputs": [],
   "source": [
    "import requests\n",
    "from bs4 import BeautifulSoup as bs\n",
    "\n",
    "import csv\n",
    "import pandas as pd"
   ]
  },
  {
   "cell_type": "code",
   "execution_count": 2,
   "metadata": {},
   "outputs": [
    {
     "name": "stdout",
     "output_type": "stream",
     "text": [
      "Done.......\n"
     ]
    }
   ],
   "source": [
    "with open('data-science-books.csv', 'w', encoding='utf-8') as file:\n",
    "    writer_obj = csv.writer(file)\n",
    "    writer_obj.writerow(['title', 'publisher', 'author', 'year'])\n",
    "    \n",
    "    for i in range(1,11):\n",
    "        url = f'https://eg1lib.org/s/data%20science?page={i}'\n",
    "        request = requests.get(url)\n",
    "        soup = bs(request.content,'html.parser')\n",
    "\n",
    "        containers = soup.find_all('div', {'class':'resItemBox resItemBoxBooks exactMatch'})\n",
    "\n",
    "        for container in containers:\n",
    "            title = container.find_all('h3', {'itemprop': \"name\"})\n",
    "            title = title[0].text.strip()\n",
    "\n",
    "            # I use here try-except because some books have no publisher name. So if it's, put it nan\n",
    "            try:\n",
    "                publisher = container.find_all('a', {'title':'Publisher'})[0].text\n",
    "            except:\n",
    "                publisher = 'nan'\n",
    "\n",
    "\n",
    "            author = container.find_all('div', {'class':'authors'})[0].text\n",
    "\n",
    "            year = container.find_all('div', {'class':\"property_value\"})[0].text\n",
    "\n",
    "            #print(title + '\\n' + publisher + '\\n' + author + '\\n' + year + '\\n')\n",
    "            writer_obj.writerow([title, publisher, author, year])\n",
    "\n",
    "print('Done.......')"
   ]
  },
  {
   "cell_type": "markdown",
   "metadata": {},
   "source": [
    "### Let's see data"
   ]
  },
  {
   "cell_type": "code",
   "execution_count": 3,
   "metadata": {},
   "outputs": [
    {
     "data": {
      "text/html": [
       "<div>\n",
       "<style scoped>\n",
       "    .dataframe tbody tr th:only-of-type {\n",
       "        vertical-align: middle;\n",
       "    }\n",
       "\n",
       "    .dataframe tbody tr th {\n",
       "        vertical-align: top;\n",
       "    }\n",
       "\n",
       "    .dataframe thead th {\n",
       "        text-align: right;\n",
       "    }\n",
       "</style>\n",
       "<table border=\"1\" class=\"dataframe\">\n",
       "  <thead>\n",
       "    <tr style=\"text-align: right;\">\n",
       "      <th></th>\n",
       "      <th>title</th>\n",
       "      <th>publisher</th>\n",
       "      <th>author</th>\n",
       "      <th>year</th>\n",
       "    </tr>\n",
       "  </thead>\n",
       "  <tbody>\n",
       "    <tr>\n",
       "      <th>0</th>\n",
       "      <td>Data Science from Scratch: First Principles wi...</td>\n",
       "      <td>O’Reilly Media</td>\n",
       "      <td>Joel Grus</td>\n",
       "      <td>2019</td>\n",
       "    </tr>\n",
       "    <tr>\n",
       "      <th>1</th>\n",
       "      <td>Numerical Python: Scientific Computing and Dat...</td>\n",
       "      <td>Apress</td>\n",
       "      <td>Robert Johansson</td>\n",
       "      <td>2019</td>\n",
       "    </tr>\n",
       "    <tr>\n",
       "      <th>2</th>\n",
       "      <td>Data Analysis From Scratch With Python: Beginn...</td>\n",
       "      <td>AI Sciences LLC</td>\n",
       "      <td>Peters Morgan</td>\n",
       "      <td>2018</td>\n",
       "    </tr>\n",
       "    <tr>\n",
       "      <th>3</th>\n",
       "      <td>Python Data Science Handbook: Essential Tools ...</td>\n",
       "      <td>O'Reilly Media</td>\n",
       "      <td>Jake VanderPlas</td>\n",
       "      <td>2016</td>\n",
       "    </tr>\n",
       "    <tr>\n",
       "      <th>4</th>\n",
       "      <td>R for Data Science: Import, Tidy, Transform, V...</td>\n",
       "      <td>O’Reilly Media</td>\n",
       "      <td>Hadley Wickham, Garrett Grolemund</td>\n",
       "      <td>2017</td>\n",
       "    </tr>\n",
       "  </tbody>\n",
       "</table>\n",
       "</div>"
      ],
      "text/plain": [
       "                                               title        publisher  \\\n",
       "0  Data Science from Scratch: First Principles wi...   O’Reilly Media   \n",
       "1  Numerical Python: Scientific Computing and Dat...           Apress   \n",
       "2  Data Analysis From Scratch With Python: Beginn...  AI Sciences LLC   \n",
       "3  Python Data Science Handbook: Essential Tools ...   O'Reilly Media   \n",
       "4  R for Data Science: Import, Tidy, Transform, V...   O’Reilly Media   \n",
       "\n",
       "                              author  year  \n",
       "0                          Joel Grus  2019  \n",
       "1                   Robert Johansson  2019  \n",
       "2                      Peters Morgan  2018  \n",
       "3                    Jake VanderPlas  2016  \n",
       "4  Hadley Wickham, Garrett Grolemund  2017  "
      ]
     },
     "execution_count": 3,
     "metadata": {},
     "output_type": "execute_result"
    }
   ],
   "source": [
    "data = pd.read_csv('data-science-books.csv')\n",
    "data.head()"
   ]
  },
  {
   "cell_type": "code",
   "execution_count": 4,
   "metadata": {},
   "outputs": [
    {
     "name": "stdout",
     "output_type": "stream",
     "text": [
      "<class 'pandas.core.frame.DataFrame'>\n",
      "RangeIndex: 500 entries, 0 to 499\n",
      "Data columns (total 4 columns):\n",
      " #   Column     Non-Null Count  Dtype \n",
      "---  ------     --------------  ----- \n",
      " 0   title      500 non-null    object\n",
      " 1   publisher  425 non-null    object\n",
      " 2   author     499 non-null    object\n",
      " 3   year       500 non-null    object\n",
      "dtypes: object(4)\n",
      "memory usage: 7.9+ KB\n"
     ]
    }
   ],
   "source": [
    "data.info()"
   ]
  }
 ],
 "metadata": {
  "kernelspec": {
   "display_name": "Python 3",
   "language": "python",
   "name": "python3"
  },
  "language_info": {
   "codemirror_mode": {
    "name": "ipython",
    "version": 3
   },
   "file_extension": ".py",
   "mimetype": "text/x-python",
   "name": "python",
   "nbconvert_exporter": "python",
   "pygments_lexer": "ipython3",
   "version": "3.7.6"
  }
 },
 "nbformat": 4,
 "nbformat_minor": 4
}
