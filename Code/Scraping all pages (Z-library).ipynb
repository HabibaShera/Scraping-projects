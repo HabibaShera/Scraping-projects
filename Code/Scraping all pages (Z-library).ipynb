{
 "cells": [
  {
   "cell_type": "code",
   "execution_count": 1,
   "metadata": {},
   "outputs": [],
   "source": [
    "import requests\n",
    "from bs4 import BeautifulSoup as bs\n",
    "\n",
    "import csv\n",
    "import pandas as pd"
   ]
  },
  {
   "cell_type": "code",
   "execution_count": 2,
   "metadata": {},
   "outputs": [
    {
     "name": "stdout",
     "output_type": "stream",
     "text": [
      "Done.......\n"
     ]
    }
   ],
   "source": [
    "with open('z-library-all-data.csv', 'w', encoding='utf-8') as file:\n",
    "    writer_obj = csv.writer(file)\n",
    "    writer_obj.writerow(['title', 'publisher', 'author', 'year'])\n",
    "    \n",
    "    for i in range(1,11):\n",
    "        url = f'https://eg1lib.org/s/programming%20concepts/?type=phrase&page={i}'\n",
    "        request = requests.get(url)\n",
    "        soup = bs(request.content,'html.parser')\n",
    "\n",
    "        containers = soup.find_all('div', {'class':'resItemBox resItemBoxBooks exactMatch'})\n",
    "\n",
    "        for container in containers:\n",
    "            title = container.find_all('h3', {'itemprop': \"name\"})\n",
    "            title = title[0].text.strip()\n",
    "\n",
    "            # I use here try-except because some books have no publisher name. So if it's, put it nan\n",
    "            try:\n",
    "                publisher = container.find_all('a', {'title':'Publisher'})[0].text\n",
    "            except:\n",
    "                publisher = 'nan'\n",
    "\n",
    "\n",
    "            author = container.find_all('div', {'class':'authors'})[0].text\n",
    "\n",
    "            year = container.find_all('div', {'class':\"property_value\"})[0].text\n",
    "\n",
    "            #print(title + '\\n' + publisher + '\\n' + author + '\\n' + year + '\\n')\n",
    "            writer_obj.writerow([title, publisher, author, year])\n",
    "\n",
    "print('Done.......')"
   ]
  },
  {
   "cell_type": "markdown",
   "metadata": {},
   "source": [
    "##         "
   ]
  },
  {
   "cell_type": "markdown",
   "metadata": {},
   "source": [
    "### Let's see data"
   ]
  },
  {
   "cell_type": "code",
   "execution_count": 3,
   "metadata": {},
   "outputs": [
    {
     "data": {
      "text/html": [
       "<div>\n",
       "<style scoped>\n",
       "    .dataframe tbody tr th:only-of-type {\n",
       "        vertical-align: middle;\n",
       "    }\n",
       "\n",
       "    .dataframe tbody tr th {\n",
       "        vertical-align: top;\n",
       "    }\n",
       "\n",
       "    .dataframe thead th {\n",
       "        text-align: right;\n",
       "    }\n",
       "</style>\n",
       "<table border=\"1\" class=\"dataframe\">\n",
       "  <thead>\n",
       "    <tr style=\"text-align: right;\">\n",
       "      <th></th>\n",
       "      <th>title</th>\n",
       "      <th>publisher</th>\n",
       "      <th>author</th>\n",
       "      <th>year</th>\n",
       "    </tr>\n",
       "  </thead>\n",
       "  <tbody>\n",
       "    <tr>\n",
       "      <th>0</th>\n",
       "      <td>Expert Python Programming: Master Python by le...</td>\n",
       "      <td>Packt Publishing</td>\n",
       "      <td>Michal Jaworski, Tarek Ziadé</td>\n",
       "      <td>2021</td>\n",
       "    </tr>\n",
       "    <tr>\n",
       "      <th>1</th>\n",
       "      <td>Rust in Action: Systems programming concepts a...</td>\n",
       "      <td>Manning Publications</td>\n",
       "      <td>Timothy Samuel McNamara</td>\n",
       "      <td>2021</td>\n",
       "    </tr>\n",
       "    <tr>\n",
       "      <th>2</th>\n",
       "      <td>Expert Python Programming, 2nd Edition: Become...</td>\n",
       "      <td>Packt Publishing</td>\n",
       "      <td>Michal Jaworski, Tarek Ziade</td>\n",
       "      <td>2016</td>\n",
       "    </tr>\n",
       "    <tr>\n",
       "      <th>3</th>\n",
       "      <td>Advanced C++ Programming Cookbook: Become an e...</td>\n",
       "      <td>Packt Publishing</td>\n",
       "      <td>Dr. Rian Quinn</td>\n",
       "      <td>2020</td>\n",
       "    </tr>\n",
       "    <tr>\n",
       "      <th>4</th>\n",
       "      <td>Learn Python Programming: The Comprehensive Gu...</td>\n",
       "      <td>NaN</td>\n",
       "      <td>James Herron [Herron, James]</td>\n",
       "      <td>2021</td>\n",
       "    </tr>\n",
       "  </tbody>\n",
       "</table>\n",
       "</div>"
      ],
      "text/plain": [
       "                                               title             publisher  \\\n",
       "0  Expert Python Programming: Master Python by le...      Packt Publishing   \n",
       "1  Rust in Action: Systems programming concepts a...  Manning Publications   \n",
       "2  Expert Python Programming, 2nd Edition: Become...      Packt Publishing   \n",
       "3  Advanced C++ Programming Cookbook: Become an e...      Packt Publishing   \n",
       "4  Learn Python Programming: The Comprehensive Gu...                   NaN   \n",
       "\n",
       "                         author  year  \n",
       "0  Michal Jaworski, Tarek Ziadé  2021  \n",
       "1       Timothy Samuel McNamara  2021  \n",
       "2  Michal Jaworski, Tarek Ziade  2016  \n",
       "3                Dr. Rian Quinn  2020  \n",
       "4  James Herron [Herron, James]  2021  "
      ]
     },
     "execution_count": 3,
     "metadata": {},
     "output_type": "execute_result"
    }
   ],
   "source": [
    "data = pd.read_csv('z-library-all-data.csv')\n",
    "data.head()"
   ]
  },
  {
   "cell_type": "code",
   "execution_count": 4,
   "metadata": {},
   "outputs": [
    {
     "name": "stdout",
     "output_type": "stream",
     "text": [
      "<class 'pandas.core.frame.DataFrame'>\n",
      "RangeIndex: 305 entries, 0 to 304\n",
      "Data columns (total 4 columns):\n",
      " #   Column     Non-Null Count  Dtype \n",
      "---  ------     --------------  ----- \n",
      " 0   title      305 non-null    object\n",
      " 1   publisher  261 non-null    object\n",
      " 2   author     303 non-null    object\n",
      " 3   year       305 non-null    object\n",
      "dtypes: object(4)\n",
      "memory usage: 4.8+ KB\n"
     ]
    }
   ],
   "source": [
    "data.info()"
   ]
  }
 ],
 "metadata": {
  "kernelspec": {
   "display_name": "Python 3",
   "language": "python",
   "name": "python3"
  },
  "language_info": {
   "codemirror_mode": {
    "name": "ipython",
    "version": 3
   },
   "file_extension": ".py",
   "mimetype": "text/x-python",
   "name": "python",
   "nbconvert_exporter": "python",
   "pygments_lexer": "ipython3",
   "version": "3.7.6"
  }
 },
 "nbformat": 4,
 "nbformat_minor": 4
}
