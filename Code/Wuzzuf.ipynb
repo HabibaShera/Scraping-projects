{
 "cells": [
  {
   "cell_type": "code",
   "execution_count": 1,
   "metadata": {},
   "outputs": [],
   "source": [
    "import requests\n",
    "from bs4 import BeautifulSoup\n",
    "from itertools import zip_longest\n",
    "import csv\n",
    "import re\n",
    "import pandas as pd"
   ]
  },
  {
   "cell_type": "code",
   "execution_count": 2,
   "metadata": {},
   "outputs": [
    {
     "data": {
      "text/plain": [
       "<Response [200]>"
      ]
     },
     "execution_count": 2,
     "metadata": {},
     "output_type": "execute_result"
    }
   ],
   "source": [
    "request = requests.get('https://wuzzuf.net/search/jobs/?q=data+analyst&a=navbl')\n",
    "request"
   ]
  },
  {
   "cell_type": "code",
   "execution_count": 3,
   "metadata": {},
   "outputs": [
    {
     "data": {
      "text/plain": [
       "b'<!DOCTYPE html>\\n<html lang=\"en\">\\n<head>\\n    <meta charset=\"utf-8\">\\n    <meta http-equiv=\"X-UA-Compatible\" content=\"IE=edge\">\\n    <meta name=\"viewport\" content=\"width=device-width, initial-scale=1.0, s'"
      ]
     },
     "execution_count": 3,
     "metadata": {},
     "output_type": "execute_result"
    }
   ],
   "source": [
    "source = request.content\n",
    "source[:200]"
   ]
  },
  {
   "cell_type": "code",
   "execution_count": 4,
   "metadata": {},
   "outputs": [],
   "source": [
    "soup = BeautifulSoup(source, 'html.parser')"
   ]
  },
  {
   "cell_type": "markdown",
   "metadata": {},
   "source": [
    "#           "
   ]
  },
  {
   "cell_type": "code",
   "execution_count": 5,
   "metadata": {},
   "outputs": [
    {
     "data": {
      "text/plain": [
       "'Business Analyst'"
      ]
     },
     "execution_count": 5,
     "metadata": {},
     "output_type": "execute_result"
    }
   ],
   "source": [
    "job_titles = soup.find_all('h2', class_=\"css-m604qf\")\n",
    "job_titles[-2].text"
   ]
  },
  {
   "cell_type": "code",
   "execution_count": 6,
   "metadata": {},
   "outputs": [
    {
     "data": {
      "text/plain": [
       "'Heliopolis, Cairo, Egypt '"
      ]
     },
     "execution_count": 6,
     "metadata": {},
     "output_type": "execute_result"
    }
   ],
   "source": [
    "company_location = soup.find_all('span', class_='css-5wys0k')\n",
    "company_location[-2].text"
   ]
  },
  {
   "cell_type": "code",
   "execution_count": 7,
   "metadata": {},
   "outputs": [
    {
     "data": {
      "text/plain": [
       "'MTS -'"
      ]
     },
     "execution_count": 7,
     "metadata": {},
     "output_type": "execute_result"
    }
   ],
   "source": [
    "company_names = soup.find_all('a', class_='css-17s97q8')\n",
    "company_names[-2].text"
   ]
  },
  {
   "cell_type": "code",
   "execution_count": 8,
   "metadata": {},
   "outputs": [
    {
     "data": {
      "text/plain": [
       "'Full TimeExperienced · 2 - 4 Yrs of Exp · IT/Software Development · Analyst/Research · Engineering - Telecom/Technology · Analysis · business · Business Analysis · Communication skills · Computer Science · Data · English'"
      ]
     },
     "execution_count": 8,
     "metadata": {},
     "output_type": "execute_result"
    }
   ],
   "source": [
    "job_skills = soup.find_all('div', class_='css-y4udm8')\n",
    "job_skills[-2].text"
   ]
  },
  {
   "cell_type": "code",
   "execution_count": 9,
   "metadata": {},
   "outputs": [
    {
     "data": {
      "text/plain": [
       "'Full Time'"
      ]
     },
     "execution_count": 9,
     "metadata": {},
     "output_type": "execute_result"
    }
   ],
   "source": [
    "job_types = soup.find_all('span', class_='css-1ve4b75 eoyjyou0')\n",
    "job_types[-2].text"
   ]
  },
  {
   "cell_type": "code",
   "execution_count": 10,
   "metadata": {},
   "outputs": [
    {
     "data": {
      "text/plain": [
       "'12 days ago'"
      ]
     },
     "execution_count": 10,
     "metadata": {},
     "output_type": "execute_result"
    }
   ],
   "source": [
    "time = (soup.find_all('div', class_=\"css-4c4ojb\")) + (soup.find_all('div', class_=\"css-do6t5g\"))\n",
    "time[-2].text"
   ]
  },
  {
   "cell_type": "code",
   "execution_count": 11,
   "metadata": {},
   "outputs": [
    {
     "data": {
      "text/plain": [
       "['2 days ago',\n",
       " '2 days ago',\n",
       " '1 day ago',\n",
       " '5 days ago',\n",
       " '2 days ago',\n",
       " '13 days ago',\n",
       " '18 days ago',\n",
       " '29 days ago',\n",
       " '26 days ago',\n",
       " '27 days ago',\n",
       " '30 days ago',\n",
       " '1 month ago',\n",
       " '13 days ago',\n",
       " '12 days ago',\n",
       " '1 month ago']"
      ]
     },
     "execution_count": 11,
     "metadata": {},
     "output_type": "execute_result"
    }
   ],
   "source": [
    "[i.text for i in time]"
   ]
  },
  {
   "cell_type": "markdown",
   "metadata": {},
   "source": [
    "#         "
   ]
  },
  {
   "cell_type": "code",
   "execution_count": 17,
   "metadata": {},
   "outputs": [],
   "source": [
    "job_title = []\n",
    "job_skill = []\n",
    "company_locat = []\n",
    "company_name = []\n",
    "job_type = []\n",
    "posted_time = []"
   ]
  },
  {
   "cell_type": "code",
   "execution_count": 18,
   "metadata": {},
   "outputs": [],
   "source": [
    "for i in range(len(job_titles)):\n",
    "    job_title.append(job_titles[i].text)\n",
    "    job_skill.append(job_skills[i].text)\n",
    "    company_locat.append(company_location[i].text)\n",
    "    company_name.append(company_names[i].text)\n",
    "    job_type.append(job_types[i].text)\n",
    "    posted_time.append(time[i].text)"
   ]
  },
  {
   "cell_type": "markdown",
   "metadata": {},
   "source": [
    "#        "
   ]
  },
  {
   "cell_type": "markdown",
   "metadata": {},
   "source": [
    "> We can observe that there are some problems in some columns like job_title, company_name and job_skill, so we need to make a little cleaning"
   ]
  },
  {
   "cell_type": "markdown",
   "metadata": {},
   "source": [
    "#         "
   ]
  },
  {
   "cell_type": "markdown",
   "metadata": {},
   "source": [
    "### Cleaning  (job_title),  (job_skill), (company_name)"
   ]
  },
  {
   "cell_type": "code",
   "execution_count": 19,
   "metadata": {},
   "outputs": [
    {
     "data": {
      "text/plain": [
       "['.css-o171kl{-webkit-text-decoration:none;text-decoration:none;color:inherit;}Data Analyst',\n",
       " 'Data Analyst',\n",
       " 'Data Analyst Supervisor',\n",
       " 'Senior Digital Data Analyst',\n",
       " 'Data Analyst',\n",
       " 'Data Analyst',\n",
       " 'Senior Data & Web Analyst',\n",
       " 'Data analyst',\n",
       " 'Data Analyst',\n",
       " 'Financial Data Analyst - (French/Russian/German/Italy) Speakers',\n",
       " 'English Financial Data Analyst',\n",
       " 'Data Analyst',\n",
       " 'Business Analyst ( Project Base Onsite )',\n",
       " 'Business Analyst',\n",
       " 'Data Analyst']"
      ]
     },
     "execution_count": 19,
     "metadata": {},
     "output_type": "execute_result"
    }
   ],
   "source": [
    "job_title"
   ]
  },
  {
   "cell_type": "code",
   "execution_count": 28,
   "metadata": {},
   "outputs": [
    {
     "data": {
      "text/plain": [
       "['Data Analyst',\n",
       " 'Data Analyst',\n",
       " 'Data Analyst Supervisor',\n",
       " 'Senior Digital Data Analyst',\n",
       " 'Data Analyst',\n",
       " 'Data Analyst',\n",
       " 'Senior Data & Web Analyst',\n",
       " 'Data analyst',\n",
       " 'Data Analyst',\n",
       " 'Financial Data Analyst - (French/Russian/German/Italy) Speakers',\n",
       " 'English Financial Data Analyst',\n",
       " 'Data Analyst',\n",
       " 'Business Analyst ( Project Base Onsite )',\n",
       " 'Business Analyst',\n",
       " 'Data Analyst']"
      ]
     },
     "execution_count": 28,
     "metadata": {},
     "output_type": "execute_result"
    }
   ],
   "source": [
    "job_title = list(map(lambda x :(re.sub('\\.css-\\w+{.*}', '', x)), job_title))\n",
    "job_title"
   ]
  },
  {
   "cell_type": "markdown",
   "metadata": {},
   "source": [
    "#         "
   ]
  },
  {
   "cell_type": "code",
   "execution_count": 30,
   "metadata": {},
   "outputs": [
    {
     "data": {
      "text/plain": [
       "'.css-1lh32fc{display:-webkit-box;display:-webkit-flex;display:-ms-flexbox;display:flex;margin-bottom:8px;-webkit-align-items:center;-webkit-box-align:center;-ms-flex-align:center;align-items:center;-webkit-box-flex-wrap:wrap;-webkit-flex-wrap:wrap;-ms-flex-wrap:wrap;flex-wrap:wrap;}.css-n2jc4m{display:-webkit-inline-box;display:-webkit-inline-flex;display:-ms-inline-flexbox;display:inline-flex;-webkit-align-items:center;-webkit-box-align:center;-ms-flex-align:center;align-items:center;-webkit-text-decoration:none;text-decoration:none;color:inherit;margin-bottom:4px;}.css-adtuo7{cursor:pointer;padding:0 4px;border-radius:4px;}.css-1ve4b75{font-size:12px;font-weight:600;display:-webkit-inline-box;display:-webkit-inline-flex;display:-ms-inline-flexbox;display:inline-flex;-webkit-align-items:center;-webkit-box-align:center;-ms-flex-align:center;align-items:center;min-height:20px;margin-right:4px;border-radius:2px;max-width:196px;white-space:nowrap;overflow:hidden;cursor:default;text-overflow:ellipsis;padding:2px 4px;background-color:#EBEDF0;color:#001433;cursor:pointer;padding:0 4px;border-radius:4px;}Full TimeWork From HomeEntry Level · 1 - 2 Yrs of Exp · IT/Software Development · Analyst/Research · Engineering - Telecom/Technology.css-5x9pm1{-webkit-text-decoration:none;text-decoration:none;color:inherit;max-width:calc(100vw / 2 - 32px);white-space:nowrap;overflow:hidden;text-overflow:ellipsis;display:-webkit-inline-box;display:-webkit-inline-flex;display:-ms-inline-flexbox;display:inline-flex;} · Information Technology (IT) · BI · Analysis · business · analytical · SQL · Matplotlib'"
      ]
     },
     "execution_count": 30,
     "metadata": {},
     "output_type": "execute_result"
    }
   ],
   "source": [
    "job_skill[0]"
   ]
  },
  {
   "cell_type": "code",
   "execution_count": 33,
   "metadata": {},
   "outputs": [
    {
     "data": {
      "text/plain": [
       "' · Information Technology (IT) · BI · Analysis · business · analytical · SQL · Matplotlib'"
      ]
     },
     "execution_count": 33,
     "metadata": {},
     "output_type": "execute_result"
    }
   ],
   "source": [
    "job_skill= list(map(lambda x: re.sub('.css-\\w+{.+}', '', x), job_skill))\n",
    "job_skill[0]"
   ]
  },
  {
   "cell_type": "markdown",
   "metadata": {},
   "source": [
    "#      "
   ]
  },
  {
   "cell_type": "code",
   "execution_count": 112,
   "metadata": {},
   "outputs": [
    {
     "data": {
      "text/plain": [
       "['Nahr Development -',\n",
       " 'Orient -',\n",
       " 'SURE International Technology -',\n",
       " 'Jazeera Paints -',\n",
       " 'Grand Plast  -',\n",
       " 'Alarabia Group -',\n",
       " 'Finstek -',\n",
       " 'Confidential -',\n",
       " 'Rashideen Egypt for Trade  -',\n",
       " 'World Vest Base (WVB ) -',\n",
       " 'World Vest Base (WVB ) -',\n",
       " 'MTS Logistics -',\n",
       " 'Qsource -',\n",
       " 'MTS -',\n",
       " 'Confidential -']"
      ]
     },
     "execution_count": 112,
     "metadata": {},
     "output_type": "execute_result"
    }
   ],
   "source": [
    "company_name"
   ]
  },
  {
   "cell_type": "code",
   "execution_count": 113,
   "metadata": {},
   "outputs": [
    {
     "data": {
      "text/plain": [
       "['Nahr Development',\n",
       " 'Orient',\n",
       " 'SURE International Technology',\n",
       " 'Jazeera Paints',\n",
       " 'Grand Plast',\n",
       " 'Alarabia Group',\n",
       " 'Finstek',\n",
       " 'Confidential',\n",
       " 'Rashideen Egypt for Trade',\n",
       " 'World Vest Base (WVB )',\n",
       " 'World Vest Base (WVB )',\n",
       " 'MTS Logistics',\n",
       " 'Qsource',\n",
       " 'MTS',\n",
       " 'Confidential']"
      ]
     },
     "execution_count": 113,
     "metadata": {},
     "output_type": "execute_result"
    }
   ],
   "source": [
    "company_name = list(map(lambda x: x.replace('-', '').strip() , company_name))\n",
    "company_name"
   ]
  },
  {
   "cell_type": "markdown",
   "metadata": {},
   "source": [
    "#        "
   ]
  },
  {
   "cell_type": "code",
   "execution_count": 114,
   "metadata": {},
   "outputs": [],
   "source": [
    "file_list = [job_title, posted_time, company_name, company_locat, job_type, job_skill]\n",
    "exported_list = zip_longest(*file_list)\n",
    "with open('test.csv', 'w', encoding='utf-8') as file:\n",
    "    writer_obj = csv.writer(file)\n",
    "    writer_obj.writerow(['job_title', 'posted_time', 'company_name','company_location', 'job_type', 'job_skills'])\n",
    "    writer_obj.writerows(exported_list)"
   ]
  },
  {
   "cell_type": "code",
   "execution_count": 116,
   "metadata": {},
   "outputs": [
    {
     "data": {
      "text/html": [
       "<div>\n",
       "<style scoped>\n",
       "    .dataframe tbody tr th:only-of-type {\n",
       "        vertical-align: middle;\n",
       "    }\n",
       "\n",
       "    .dataframe tbody tr th {\n",
       "        vertical-align: top;\n",
       "    }\n",
       "\n",
       "    .dataframe thead th {\n",
       "        text-align: right;\n",
       "    }\n",
       "</style>\n",
       "<table border=\"1\" class=\"dataframe\">\n",
       "  <thead>\n",
       "    <tr style=\"text-align: right;\">\n",
       "      <th></th>\n",
       "      <th>job_title</th>\n",
       "      <th>posted_time</th>\n",
       "      <th>company_name</th>\n",
       "      <th>company_location</th>\n",
       "      <th>job_type</th>\n",
       "      <th>job_skills</th>\n",
       "    </tr>\n",
       "  </thead>\n",
       "  <tbody>\n",
       "    <tr>\n",
       "      <th>0</th>\n",
       "      <td>Data Analyst</td>\n",
       "      <td>2 days ago</td>\n",
       "      <td>Nahr Development</td>\n",
       "      <td>Bolkly, Alexandria, Egypt</td>\n",
       "      <td>Full Time</td>\n",
       "      <td>· Information Technology (IT) · BI · Analysis...</td>\n",
       "    </tr>\n",
       "    <tr>\n",
       "      <th>1</th>\n",
       "      <td>Data Analyst</td>\n",
       "      <td>2 days ago</td>\n",
       "      <td>Orient</td>\n",
       "      <td>Maadi, Cairo, Egypt</td>\n",
       "      <td>Work From Home</td>\n",
       "      <td>Full TimeEntry Level · 1+ Yrs of Exp · Analyst...</td>\n",
       "    </tr>\n",
       "    <tr>\n",
       "      <th>2</th>\n",
       "      <td>Data Analyst Supervisor</td>\n",
       "      <td>1 day ago</td>\n",
       "      <td>SURE International Technology</td>\n",
       "      <td>Cairo, Egypt</td>\n",
       "      <td>Full Time</td>\n",
       "      <td>Full TimeManager · 5+ Yrs of Exp · IT/Software...</td>\n",
       "    </tr>\n",
       "    <tr>\n",
       "      <th>3</th>\n",
       "      <td>Senior Digital Data Analyst</td>\n",
       "      <td>5 days ago</td>\n",
       "      <td>Jazeera Paints</td>\n",
       "      <td>10th of Ramadan City, Cairo, Egypt</td>\n",
       "      <td>Full Time</td>\n",
       "      <td>Full TimeExperienced · 3 - 6 Yrs of Exp · IT/S...</td>\n",
       "    </tr>\n",
       "    <tr>\n",
       "      <th>4</th>\n",
       "      <td>Data Analyst</td>\n",
       "      <td>2 days ago</td>\n",
       "      <td>Grand Plast</td>\n",
       "      <td>Salam City, Cairo, Egypt</td>\n",
       "      <td>Full Time</td>\n",
       "      <td>Full TimeExperienced · 7 - 12 Yrs of Exp · Ana...</td>\n",
       "    </tr>\n",
       "    <tr>\n",
       "      <th>5</th>\n",
       "      <td>Data Analyst</td>\n",
       "      <td>13 days ago</td>\n",
       "      <td>Alarabia Group</td>\n",
       "      <td>10th of Ramadan City, Cairo, Egypt</td>\n",
       "      <td>Full Time</td>\n",
       "      <td>Full TimeExperienced · 2 - 5 Yrs of Exp · IT/S...</td>\n",
       "    </tr>\n",
       "    <tr>\n",
       "      <th>6</th>\n",
       "      <td>Senior Data &amp; Web Analyst</td>\n",
       "      <td>18 days ago</td>\n",
       "      <td>Finstek</td>\n",
       "      <td>New Cairo, Cairo, Egypt</td>\n",
       "      <td>Full Time</td>\n",
       "      <td>Full TimeExperienced · 3+ Yrs of Exp · IT/Soft...</td>\n",
       "    </tr>\n",
       "    <tr>\n",
       "      <th>7</th>\n",
       "      <td>Data analyst</td>\n",
       "      <td>29 days ago</td>\n",
       "      <td>Confidential</td>\n",
       "      <td>Qalyub, Qalubia, Egypt</td>\n",
       "      <td>Full Time</td>\n",
       "      <td>Full TimeExperienced · 2 - 4 Yrs of Exp · male...</td>\n",
       "    </tr>\n",
       "    <tr>\n",
       "      <th>8</th>\n",
       "      <td>Data Analyst</td>\n",
       "      <td>26 days ago</td>\n",
       "      <td>Rashideen Egypt for Trade</td>\n",
       "      <td>Basatin, Cairo, Egypt</td>\n",
       "      <td>Full Time</td>\n",
       "      <td>Full TimeExperienced · 2 - 5 Yrs of Exp · Busi...</td>\n",
       "    </tr>\n",
       "    <tr>\n",
       "      <th>9</th>\n",
       "      <td>Financial Data Analyst - (French/Russian/Germa...</td>\n",
       "      <td>27 days ago</td>\n",
       "      <td>World Vest Base (WVB )</td>\n",
       "      <td>Heliopolis, Cairo, Egypt</td>\n",
       "      <td>Full Time</td>\n",
       "      <td>Full TimeEntry Level · 0 - 2 Yrs of Exp · Acco...</td>\n",
       "    </tr>\n",
       "    <tr>\n",
       "      <th>10</th>\n",
       "      <td>English Financial Data Analyst</td>\n",
       "      <td>30 days ago</td>\n",
       "      <td>World Vest Base (WVB )</td>\n",
       "      <td>Heliopolis, Cairo, Egypt</td>\n",
       "      <td>Full Time</td>\n",
       "      <td>Full TimeEntry Level · 0 - 2 Yrs of Exp · Acco...</td>\n",
       "    </tr>\n",
       "    <tr>\n",
       "      <th>11</th>\n",
       "      <td>Data Analyst</td>\n",
       "      <td>1 month ago</td>\n",
       "      <td>MTS Logistics</td>\n",
       "      <td>New Cairo, Cairo, Egypt</td>\n",
       "      <td>Full Time</td>\n",
       "      <td>Full TimeEntry Level · 1+ Yrs of Exp · Analyst...</td>\n",
       "    </tr>\n",
       "    <tr>\n",
       "      <th>12</th>\n",
       "      <td>Business Analyst ( Project Base Onsite )</td>\n",
       "      <td>13 days ago</td>\n",
       "      <td>Qsource</td>\n",
       "      <td>Dokki, Giza, Egypt</td>\n",
       "      <td>Full Time</td>\n",
       "      <td>Freelance / ProjectEntry Level · 1 - 2 Yrs of ...</td>\n",
       "    </tr>\n",
       "    <tr>\n",
       "      <th>13</th>\n",
       "      <td>Business Analyst</td>\n",
       "      <td>12 days ago</td>\n",
       "      <td>MTS</td>\n",
       "      <td>Heliopolis, Cairo, Egypt</td>\n",
       "      <td>Freelance / Project</td>\n",
       "      <td>Full TimeExperienced · 2 - 4 Yrs of Exp · IT/S...</td>\n",
       "    </tr>\n",
       "    <tr>\n",
       "      <th>14</th>\n",
       "      <td>Data Analyst</td>\n",
       "      <td>1 month ago</td>\n",
       "      <td>Confidential</td>\n",
       "      <td>Bab Sharq, Alexandria, Egypt</td>\n",
       "      <td>Full Time</td>\n",
       "      <td>Full TimeExperienced · 3 - 5 Yrs of Exp · Anal...</td>\n",
       "    </tr>\n",
       "  </tbody>\n",
       "</table>\n",
       "</div>"
      ],
      "text/plain": [
       "                                            job_title  posted_time  \\\n",
       "0                                        Data Analyst   2 days ago   \n",
       "1                                        Data Analyst   2 days ago   \n",
       "2                             Data Analyst Supervisor    1 day ago   \n",
       "3                         Senior Digital Data Analyst   5 days ago   \n",
       "4                                        Data Analyst   2 days ago   \n",
       "5                                        Data Analyst  13 days ago   \n",
       "6                           Senior Data & Web Analyst  18 days ago   \n",
       "7                                        Data analyst  29 days ago   \n",
       "8                                        Data Analyst  26 days ago   \n",
       "9   Financial Data Analyst - (French/Russian/Germa...  27 days ago   \n",
       "10                     English Financial Data Analyst  30 days ago   \n",
       "11                                       Data Analyst  1 month ago   \n",
       "12           Business Analyst ( Project Base Onsite )  13 days ago   \n",
       "13                                   Business Analyst  12 days ago   \n",
       "14                                       Data Analyst  1 month ago   \n",
       "\n",
       "                     company_name                     company_location  \\\n",
       "0                Nahr Development           Bolkly, Alexandria, Egypt    \n",
       "1                          Orient                 Maadi, Cairo, Egypt    \n",
       "2   SURE International Technology                        Cairo, Egypt    \n",
       "3                  Jazeera Paints  10th of Ramadan City, Cairo, Egypt    \n",
       "4                     Grand Plast            Salam City, Cairo, Egypt    \n",
       "5                  Alarabia Group  10th of Ramadan City, Cairo, Egypt    \n",
       "6                         Finstek             New Cairo, Cairo, Egypt    \n",
       "7                    Confidential              Qalyub, Qalubia, Egypt    \n",
       "8       Rashideen Egypt for Trade               Basatin, Cairo, Egypt    \n",
       "9          World Vest Base (WVB )            Heliopolis, Cairo, Egypt    \n",
       "10         World Vest Base (WVB )            Heliopolis, Cairo, Egypt    \n",
       "11                  MTS Logistics             New Cairo, Cairo, Egypt    \n",
       "12                        Qsource                  Dokki, Giza, Egypt    \n",
       "13                            MTS            Heliopolis, Cairo, Egypt    \n",
       "14                   Confidential        Bab Sharq, Alexandria, Egypt    \n",
       "\n",
       "               job_type                                         job_skills  \n",
       "0             Full Time   · Information Technology (IT) · BI · Analysis...  \n",
       "1        Work From Home  Full TimeEntry Level · 1+ Yrs of Exp · Analyst...  \n",
       "2             Full Time  Full TimeManager · 5+ Yrs of Exp · IT/Software...  \n",
       "3             Full Time  Full TimeExperienced · 3 - 6 Yrs of Exp · IT/S...  \n",
       "4             Full Time  Full TimeExperienced · 7 - 12 Yrs of Exp · Ana...  \n",
       "5             Full Time  Full TimeExperienced · 2 - 5 Yrs of Exp · IT/S...  \n",
       "6             Full Time  Full TimeExperienced · 3+ Yrs of Exp · IT/Soft...  \n",
       "7             Full Time  Full TimeExperienced · 2 - 4 Yrs of Exp · male...  \n",
       "8             Full Time  Full TimeExperienced · 2 - 5 Yrs of Exp · Busi...  \n",
       "9             Full Time  Full TimeEntry Level · 0 - 2 Yrs of Exp · Acco...  \n",
       "10            Full Time  Full TimeEntry Level · 0 - 2 Yrs of Exp · Acco...  \n",
       "11            Full Time  Full TimeEntry Level · 1+ Yrs of Exp · Analyst...  \n",
       "12            Full Time  Freelance / ProjectEntry Level · 1 - 2 Yrs of ...  \n",
       "13  Freelance / Project  Full TimeExperienced · 2 - 4 Yrs of Exp · IT/S...  \n",
       "14            Full Time  Full TimeExperienced · 3 - 5 Yrs of Exp · Anal...  "
      ]
     },
     "execution_count": 116,
     "metadata": {},
     "output_type": "execute_result"
    }
   ],
   "source": [
    "data = pd.read_csv('test.csv')\n",
    "data"
   ]
  },
  {
   "cell_type": "code",
   "execution_count": 117,
   "metadata": {},
   "outputs": [
    {
     "name": "stdout",
     "output_type": "stream",
     "text": [
      "<class 'pandas.core.frame.DataFrame'>\n",
      "RangeIndex: 15 entries, 0 to 14\n",
      "Data columns (total 6 columns):\n",
      " #   Column            Non-Null Count  Dtype \n",
      "---  ------            --------------  ----- \n",
      " 0   job_title         15 non-null     object\n",
      " 1   posted_time       15 non-null     object\n",
      " 2   company_name      15 non-null     object\n",
      " 3   company_location  15 non-null     object\n",
      " 4   job_type          15 non-null     object\n",
      " 5   job_skills        15 non-null     object\n",
      "dtypes: object(6)\n",
      "memory usage: 424.0+ bytes\n"
     ]
    }
   ],
   "source": [
    "data.info()"
   ]
  },
  {
   "cell_type": "code",
   "execution_count": 125,
   "metadata": {},
   "outputs": [
    {
     "data": {
      "text/plain": [
       "'Freelance / ProjectEntry Level · 1 - 2 Yrs of Exp · Analyst/Research · Agile · Analysis · Business Analysis · business · Computer Science · Development · Engineering · Data · Information Technology (IT)'"
      ]
     },
     "execution_count": 125,
     "metadata": {},
     "output_type": "execute_result"
    }
   ],
   "source": [
    "data['job_skills'][12]"
   ]
  },
  {
   "cell_type": "markdown",
   "metadata": {},
   "source": [
    "#      "
   ]
  }
 ],
 "metadata": {
  "kernelspec": {
   "display_name": "Python 3",
   "language": "python",
   "name": "python3"
  },
  "language_info": {
   "codemirror_mode": {
    "name": "ipython",
    "version": 3
   },
   "file_extension": ".py",
   "mimetype": "text/x-python",
   "name": "python",
   "nbconvert_exporter": "python",
   "pygments_lexer": "ipython3",
   "version": "3.7.6"
  }
 },
 "nbformat": 4,
 "nbformat_minor": 4
}
